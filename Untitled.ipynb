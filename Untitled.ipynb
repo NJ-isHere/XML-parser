{
 "cells": [
  {
   "cell_type": "code",
   "execution_count": 8,
   "metadata": {},
   "outputs": [],
   "source": [
    "from bs4 import BeautifulSoup\n",
    "\n",
    "\n",
    "def _process_string(s):\n",
    "    return s.strip().replace('\\n', '')\n",
    "\n",
    "\n",
    "def _process_tuple(tuple):\n",
    "    return map(_process_string, tuple)\n",
    "\n",
    "\n",
    "def _get_parsed_row(soup):\n",
    "    fields_to_get = ['accountid','age', 'aboutme', 'displayname', 'location']\n",
    "\n",
    "    for row in soup.find_all('row'):\n",
    "        yield _process_tuple(\n",
    "            row.get(field, '') for field in fields_to_get\n",
    "        )\n",
    "\n",
    "\n",
    "def main(fname, ofname):\n",
    "    with open(fname, 'r', encoding='latin-1') as f:\n",
    "        soup = BeautifulSoup(f, 'lxml')\n",
    "\n",
    "    with open(ofname, 'w', encoding='latin-1') as output:\n",
    "        for row in _get_parsed_row(soup):\n",
    "            print(','.join(row), file=output)\n",
    "\n",
    "\n",
    "if __name__ == '__main__':\n",
    "    fname = 'c:/Users/Farida/Users.xml'\n",
    "    ofname = 'c:/Users/Farida/output.csv'\n",
    "    main(fname, ofname)\n"
   ]
  },
  {
   "cell_type": "code",
   "execution_count": 9,
   "metadata": {},
   "outputs": [
    {
     "ename": "ModuleNotFoundError",
     "evalue": "No module named 'pandas'",
     "output_type": "error",
     "traceback": [
      "\u001b[1;31m---------------------------------------------------------------------------\u001b[0m",
      "\u001b[1;31mModuleNotFoundError\u001b[0m                       Traceback (most recent call last)",
      "\u001b[1;32m<ipython-input-9-af55e7023913>\u001b[0m in \u001b[0;36m<module>\u001b[1;34m()\u001b[0m\n\u001b[1;32m----> 1\u001b[1;33m \u001b[1;32mimport\u001b[0m \u001b[0mpandas\u001b[0m \u001b[1;32mas\u001b[0m \u001b[0mpd\u001b[0m\u001b[1;33m\u001b[0m\u001b[0m\n\u001b[0m",
      "\u001b[1;31mModuleNotFoundError\u001b[0m: No module named 'pandas'"
     ]
    }
   ],
   "source": [
    "import pandas as pd"
   ]
  },
  {
   "cell_type": "code",
   "execution_count": null,
   "metadata": {
    "collapsed": true
   },
   "outputs": [],
   "source": []
  }
 ],
 "metadata": {
  "kernelspec": {
   "display_name": "Python 3",
   "language": "python",
   "name": "python3"
  },
  "language_info": {
   "codemirror_mode": {
    "name": "ipython",
    "version": 3
   },
   "file_extension": ".py",
   "mimetype": "text/x-python",
   "name": "python",
   "nbconvert_exporter": "python",
   "pygments_lexer": "ipython3",
   "version": "3.6.2"
  }
 },
 "nbformat": 4,
 "nbformat_minor": 2
}
